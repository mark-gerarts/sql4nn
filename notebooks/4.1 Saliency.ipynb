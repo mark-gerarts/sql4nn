{
 "cells": [
  {
   "cell_type": "markdown",
   "metadata": {},
   "source": [
    "# Saliency\n",
    "\n",
    "We adapt the [useless neurons query](./2%20Querying%20useless%20neurons.ipynb)\n",
    "to instead calculate the *saliency*. That is, for a given input, we calculate\n",
    "how much each individual input node contributes to the end result. We'll start\n",
    "with a basic example, and then we apply the query to an image classifier."
   ]
  },
  {
   "cell_type": "markdown",
   "metadata": {},
   "source": [
    "## Basic example\n",
    "\n",
    "We start with a small function with 10 inputs. The function we are trying to\n",
    "learn returns the sum, but only of the inputs with an odd index. This\n",
    "should, theoretically, result in the even-indexed inputs to not contribute anything."
   ]
  },
  {
   "cell_type": "code",
   "execution_count": 2,
   "metadata": {},
   "outputs": [
    {
     "data": {
      "text/plain": [
       "<duckdb.duckdb.DuckDBPyConnection at 0x78499a023d70>"
      ]
     },
     "execution_count": 2,
     "metadata": {},
     "output_type": "execute_result"
    }
   ],
   "source": [
    "import torch\n",
    "import numpy as np\n",
    "import utils.duckdb as db\n",
    "import utils.nn as nn\n",
    "import os\n",
    "import itertools\n",
    "\n",
    "torch.manual_seed(223)\n",
    "\n",
    "def f(*args):\n",
    "    \"\"\"\n",
    "    Returns the sum of the arguments passed to this, but only looking at\n",
    "    arguments with an odd index.\n",
    "    \"\"\"\n",
    "    return sum([x for (i, x) in enumerate(args) if i % 2 == 1])\n",
    "\n",
    "model = nn.ReLUFNN(\n",
    "    input_size=10,\n",
    "    output_size=1,\n",
    "    hidden_size=100,\n",
    "    num_hidden_layers=5\n",
    ")\n",
    "\n",
    "num_samples = 10000\n",
    "x_train = torch.randn(num_samples, 10) * 100\n",
    "y_train = [[f(*xs)] for xs in x_train]\n",
    "\n",
    "nn.train(model, x_train, y_train, epochs=15, save_path=\"models/saliency_nn.pt\")\n",
    "\n",
    "db.load_pytorch_model_into_db(model)\n",
    "db.con.execute(\"EXPORT DATABASE 'dbs/saliency.db'\")\n"
   ]
  },
  {
   "cell_type": "markdown",
   "metadata": {},
   "source": [
    "Let's see if our model performs as expected."
   ]
  },
  {
   "cell_type": "code",
   "execution_count": 3,
   "metadata": {},
   "outputs": [
    {
     "name": "stdout",
     "output_type": "stream",
     "text": [
      "tensor([[  3.9809],\n",
      "        [  4.8332],\n",
      "        [ 22.5017],\n",
      "        [110.3929]])\n"
     ]
    }
   ],
   "source": [
    "model.eval()\n",
    "\n",
    "example_inputs = [\n",
    "    [1, 1, 1, 1, 1, 1, 1, 1, 1, 1], # Should return 5\n",
    "    [1, 5, 1, -5, 1, 5, 1, -5, 1, 5], # Should return 5\n",
    "    [1, 2, 3, 4, 5, 6, 7, 8, 9 ,10], # Should return 30\n",
    "    [1, 10, 2, 20, 3, 30, 4, 40, 5, 50], # Should return 150\n",
    "]\n",
    "\n",
    "with torch.no_grad():\n",
    "    result = model(torch.tensor(example_inputs, dtype=torch.float32))\n",
    "    print(result)"
   ]
  },
  {
   "cell_type": "markdown",
   "metadata": {},
   "source": [
    "The results of our network are not perfect, but good enough for our purposes.\n",
    "Before we move on to the saliency query, let's do a quick sanity check and\n",
    "see if an `eval` on the model in our database returns the same results."
   ]
  },
  {
   "cell_type": "code",
   "execution_count": 4,
   "metadata": {},
   "outputs": [
    {
     "data": {
      "text/plain": [
       "┌──────────────┬────────────────────┬───────┐\n",
       "│ input_set_id │       value        │  id   │\n",
       "│    int32     │       double       │ int32 │\n",
       "├──────────────┼────────────────────┼───────┤\n",
       "│            0 │  3.980904496114195 │   511 │\n",
       "│            1 │  4.833184254184151 │   511 │\n",
       "│            2 │ 22.501725645422987 │   511 │\n",
       "│            3 │ 110.39291306779965 │   511 │\n",
       "└──────────────┴────────────────────┴───────┘"
      ]
     },
     "execution_count": 4,
     "metadata": {},
     "output_type": "execute_result"
    }
   ],
   "source": [
    "with open('queries/eval_recursive_from_input_optim.sql') as file:\n",
    "    eval_query = file.read()\n",
    "\n",
    "db.con.sql(\"TRUNCATE TABLE input\")\n",
    "for input_set_id, input in enumerate(example_inputs):\n",
    "    input_node_idx = 1\n",
    "    for x in input:\n",
    "        db.con.sql(f\"\"\"\n",
    "            INSERT INTO input (input_set_id, input_node_idx, input_value)\n",
    "            VALUES ({input_set_id}, {input_node_idx}, {x})\n",
    "        \"\"\")\n",
    "        input_node_idx += 1\n",
    "\n",
    "    db.con.sql(\"EXPORT DATABASE 'dbs/test.db';\")\n",
    "\n",
    "db.con.sql(eval_query)\n"
   ]
  },
  {
   "cell_type": "markdown",
   "metadata": {},
   "source": [
    "Looks good, so let's move on!"
   ]
  },
  {
   "cell_type": "markdown",
   "metadata": {},
   "source": [
    "## The saliency query"
   ]
  },
  {
   "cell_type": "markdown",
   "metadata": {},
   "source": [
    "We first delete everything but the first input set, to make things more clear."
   ]
  },
  {
   "cell_type": "code",
   "execution_count": 5,
   "metadata": {},
   "outputs": [],
   "source": [
    "db.con.sql(\"DELETE FROM input WHERE input_set_id <> 0\")"
   ]
  },
  {
   "cell_type": "markdown",
   "metadata": {},
   "source": [
    "The saliency query can be found [here](./queries/saliency.sql). It is almost the\n",
    "same as the useless neuron overview query, except we iterate over the input\n",
    "nodes instead of the hidden nodes."
   ]
  },
  {
   "cell_type": "code",
   "execution_count": 6,
   "metadata": {},
   "outputs": [
    {
     "data": {
      "text/plain": [
       "┌──────────────┬─────────────┬───────────┬──────────────────────┐\n",
       "│ input_set_id │ i_to_remove │ output_id │       saliency       │\n",
       "│    int32     │    int32    │   int32   │        double        │\n",
       "├──────────────┼─────────────┼───────────┼──────────────────────┤\n",
       "│            0 │           1 │       511 │   0.1600594652605496 │\n",
       "│            0 │           2 │       511 │   0.6701696022449539 │\n",
       "│            0 │           3 │       511 │  0.10351041003985761 │\n",
       "│            0 │           4 │       511 │   0.7613947272728097 │\n",
       "│            0 │           5 │       511 │  0.02848658866034892 │\n",
       "│            0 │           6 │       511 │   0.7362538524272311 │\n",
       "│            0 │           7 │       511 │ 0.009439831667148457 │\n",
       "│            0 │           8 │       511 │   0.7190573414185222 │\n",
       "│            0 │           9 │       511 │  0.01805737739097868 │\n",
       "│            0 │          10 │       511 │   0.5808162395130965 │\n",
       "├──────────────┴─────────────┴───────────┴──────────────────────┤\n",
       "│ 10 rows                                             4 columns │\n",
       "└───────────────────────────────────────────────────────────────┘"
      ]
     },
     "execution_count": 6,
     "metadata": {},
     "output_type": "execute_result"
    }
   ],
   "source": [
    "with open('queries/saliency.sql') as file:\n",
    "    saliency_query = file.read()\n",
    "\n",
    "result = db.con.sql(saliency_query)\n",
    "result\n"
   ]
  },
  {
   "cell_type": "markdown",
   "metadata": {},
   "source": [
    "If we plot this, we can see that the odd input neurons are more important than\n",
    "the even ones, as expected."
   ]
  },
  {
   "cell_type": "code",
   "execution_count": 7,
   "metadata": {},
   "outputs": [
    {
     "data": {
      "text/plain": [
       "<Axes: >"
      ]
     },
     "execution_count": 7,
     "metadata": {},
     "output_type": "execute_result"
    },
    {
     "data": {
      "image/png": "[encoded data removed]",
      "text/plain": [
       "<Figure size 640x480 with 1 Axes>"
      ]
     },
     "metadata": {},
     "output_type": "display_data"
    }
   ],
   "source": [
    "result.df().plot.bar(y='saliency')"
   ]
  },
  {
   "cell_type": "markdown",
   "metadata": {},
   "source": [
    "## Saliency for an image classification model\n",
    "\n",
    "Now let's move to a more real-world example: saliency for an image\n",
    "classification model. For this, we'll reuse [the CNN\n",
    "example](/1.8%20Eval%20-%20CNN.ipynb). This assumes you have run that notebook\n",
    "before, so `mnist_cnn.pt` and `eval_cnn.db` are available."
   ]
  },
  {
   "cell_type": "code",
   "execution_count": 8,
   "metadata": {},
   "outputs": [
    {
     "data": {
      "text/plain": [
       "<duckdb.duckdb.DuckDBPyConnection at 0x7849e81408b0>"
      ]
     },
     "execution_count": 8,
     "metadata": {},
     "output_type": "execute_result"
    }
   ],
   "source": [
    "import torch.nn as nn\n",
    "import torch.nn.functional as F\n",
    "\n",
    "class Net(nn.Module):\n",
    "    def __init__(self):\n",
    "        super(Net, self).__init__()\n",
    "        self.conv1 = nn.Conv2d(1, 32, 3, 1)\n",
    "        self.conv2 = nn.Conv2d(32, 64 // 4, 3, 1)\n",
    "        self.dropout1 = nn.Dropout(0.25)\n",
    "        self.dropout2 = nn.Dropout(0.5)\n",
    "        self.fc1 = nn.Linear(9216, 128)\n",
    "        self.fc2 = nn.Linear(128, 10)\n",
    "\n",
    "    def forward(self, x):\n",
    "        x = self.conv1(x)\n",
    "        x = F.relu(x)\n",
    "        x = self.conv2(x)\n",
    "        x = F.relu(x)\n",
    "        x = self.dropout1(x)\n",
    "        x = torch.flatten(x, 1)\n",
    "        x = self.fc1(x)\n",
    "        x = F.relu(x)\n",
    "        x = self.dropout2(x)\n",
    "        x = self.fc2(x)\n",
    "        output = F.log_softmax(x, dim=1)\n",
    "        return output\n",
    "\n",
    "model = Net()\n",
    "model.load_state_dict(torch.load('models/mnist_cnn.pt', weights_only=True))\n",
    "model.eval()\n",
    "\n",
    "db.reconnect()\n",
    "db.con.execute(f\"IMPORT DATABASE 'dbs/eval_cnn.db'\")"
   ]
  },
  {
   "cell_type": "markdown",
   "metadata": {},
   "source": [
    "Now let's pick a test image from the MNIST dataset."
   ]
  },
  {
   "cell_type": "code",
   "execution_count": 9,
   "metadata": {},
   "outputs": [
    {
     "data": {
      "image/png": "[encoded data removed]",
      "text/plain": [
       "<Figure size 640x480 with 1 Axes>"
      ]
     },
     "metadata": {},
     "output_type": "display_data"
    }
   ],
   "source": [
    "from torchvision import datasets, transforms\n",
    "import matplotlib.pyplot as plt\n",
    "\n",
    "dataset = datasets.MNIST('../data', train=False)\n",
    "image, label = dataset[1]\n",
    "\n",
    "image = transforms.ToTensor()(image)\n",
    "image_np = image.squeeze().numpy()\n",
    "\n",
    "plt.imshow(image_np, cmap='gray')\n",
    "plt.title(f\"Label: {label}\")\n",
    "plt.axis('off')  # Turn off axis\n",
    "plt.show()"
   ]
  },
  {
   "cell_type": "markdown",
   "metadata": {},
   "source": [
    "Apply the transformation to it for future steps:"
   ]
  },
  {
   "cell_type": "code",
   "execution_count": 10,
   "metadata": {},
   "outputs": [],
   "source": [
    "image = (image - 0.1307) / 0.3081\n",
    "image_np = (image_np - 0.1307) / 0.3081"
   ]
  },
  {
   "cell_type": "markdown",
   "metadata": {},
   "source": [
    "And calculate the saliency for it:"
   ]
  },
  {
   "cell_type": "code",
   "execution_count": 11,
   "metadata": {},
   "outputs": [],
   "source": [
    "def load_image_into_input_table(image):\n",
    "    db.con.execute(\"TRUNCATE input\")\n",
    "    for i, pixel in enumerate(image.flatten()):\n",
    "        db.con.execute(\"\"\"\n",
    "            INSERT INTO input (input_set_id, input_node_idx, input_value)\n",
    "            VALUES (0, $input_node_idx, $input_value)\n",
    "        \"\"\",\n",
    "        {'input_node_idx': i + 1, 'input_value': pixel.item()})\n",
    "    db.con.sql(\"EXPORT DATABASE 'dbs/eval_cnn_w_input.db'\")\n",
    "\n",
    "load_image_into_input_table(image)\n",
    "#db.con.sql(saliency_query)"
   ]
  },
  {
   "cell_type": "markdown",
   "metadata": {},
   "source": [
    "This query takes 3+ minutes on a decent machine, but needs a lot of available\n",
    "RAM to prevent DuckDB from swapping and slowing down hard (with 16GB total RAM\n",
    "we have a bit of swapping, causing the 3+ minutes). In any case, the scaling is\n",
    "not great."
   ]
  },
  {
   "cell_type": "markdown",
   "metadata": {},
   "source": [
    "## Alternative approach: evals in a loop\n",
    "\n",
    "We will instead do evals in a loop, since this is faster than a single saliency\n",
    "query."
   ]
  },
  {
   "cell_type": "code",
   "execution_count": 12,
   "metadata": {},
   "outputs": [],
   "source": [
    "query = \"\"\"\n",
    "WITH RECURSIVE input_values AS (\n",
    "    -- Fetch input values from an existing table\n",
    "    SELECT input_set_id, input_node_idx, input_value FROM input\n",
    "),\n",
    "input_nodes AS (\n",
    "    SELECT\n",
    "        id,\n",
    "        bias,\n",
    "        ROW_NUMBER() OVER (ORDER BY id) AS input_node_idx\n",
    "    FROM node n\n",
    "    -- NOT EXISTS is faster\n",
    "    WHERE NOT EXISTS\n",
    "        (SELECT 1 FROM edge WHERE dst = n.id)\n",
    "),\n",
    "output_nodes AS (\n",
    "    SELECT id, bias\n",
    "    FROM node n\n",
    "    -- NOT EXISTS is faster\n",
    "    WHERE NOT EXISTS\n",
    "    (SELECT 1 FROM edge WHERE src=n.id)\n",
    "),\n",
    "tx AS (\n",
    "    -- Base case (t1)\n",
    "    SELECT\n",
    "        v.input_set_id AS input_set_id,\n",
    "        GREATEST(0, n.bias + SUM(e.weight * v.input_value)) AS value,\n",
    "        e.dst AS id,\n",
    "    -- JOIN order matters for performance!\n",
    "    FROM input_nodes i\n",
    "    JOIN input_values v ON i.input_node_idx = v.input_node_idx\n",
    "    JOIN edge e ON i.id = e.src\n",
    "    JOIN node n ON e.dst = n.id\n",
    "    WHERE i.input_node_idx <> ?\n",
    "    GROUP BY e.dst, n.bias, v.input_set_id\n",
    "\n",
    "    UNION ALL\n",
    "\n",
    "    -- Recursive case\n",
    "    SELECT\n",
    "        tx.input_set_id AS input_set_id,\n",
    "        GREATEST(0, n.bias + SUM(e.weight * tx.value)) AS value,\n",
    "        e.dst AS id,\n",
    "    FROM tx\n",
    "    JOIN edge e ON tx.id = e.src\n",
    "    JOIN node n ON e.dst = n.id\n",
    "    GROUP BY e.dst, n.bias, tx.input_set_id\n",
    "),\n",
    "-- As the last step, repeat the calculation for the output nodes, but omit the\n",
    "-- ReLU this time (per definition)\n",
    "t_out AS (\n",
    "    SELECT\n",
    "        tx.input_set_id AS input_set_id,\n",
    "        o.bias + SUM(e.weight * tx.value) AS value,\n",
    "        e.dst AS id\n",
    "    FROM output_nodes o\n",
    "    JOIN edge e ON e.dst = o.id\n",
    "    JOIN tx ON tx.id = e.src\n",
    "    GROUP BY e.dst, o.bias, tx.input_set_id\n",
    ")\n",
    "SELECT * FROM t_out ORDER BY input_set_id, id;\n",
    "\"\"\"\n"
   ]
  },
  {
   "cell_type": "code",
   "execution_count": 13,
   "metadata": {},
   "outputs": [],
   "source": [
    "import concurrent.futures\n",
    "\n",
    "def fetch_data(i):\n",
    "    return db.con.execute(query, [i]).fetchall()\n",
    "\n",
    "# It's about 50% faster to do in parallel.\n",
    "with concurrent.futures.ProcessPoolExecutor() as executor:\n",
    "    results = list(executor.map(fetch_data, range(1, 28*28 + 1)))"
   ]
  },
  {
   "cell_type": "code",
   "execution_count": 14,
   "metadata": {},
   "outputs": [
    {
     "data": {
      "text/plain": [
       "[(0, -10.184259133986917, 31761),\n",
       " (0, -9.052014955936402, 31762),\n",
       " (0, 5.659585574770499, 31763),\n",
       " (0, -18.47681388284572, 31764),\n",
       " (0, -16.05940162041364, 31765),\n",
       " (0, -24.80347757614684, 31766),\n",
       " (0, -10.41162697276949, 31767),\n",
       " (0, -18.65623944292892, 31768),\n",
       " (0, -17.674924512046424, 31769),\n",
       " (0, -25.615674505490393, 31770)]"
      ]
     },
     "execution_count": 14,
     "metadata": {},
     "output_type": "execute_result"
    }
   ],
   "source": [
    "with open('queries/eval_recursive_from_input_optim.sql') as file:\n",
    "    eval_query = file.read()\n",
    "\n",
    "actual_result = db.con.execute(eval_query).fetchall()\n",
    "actual_result"
   ]
  },
  {
   "cell_type": "code",
   "execution_count": 15,
   "metadata": {},
   "outputs": [],
   "source": [
    "diffs = []\n",
    "\n",
    "max_actual_sql = max([row[1] for row in actual_result])\n",
    "guessed_digit = max(range(len(actual_result)), key=lambda i: actual_result[i][1])\n",
    "\n",
    "for result in results:\n",
    "    # There are several ways to calculate saliency for multiple output nodes.\n",
    "    # This just compares the results of the guessed digits. Other options could\n",
    "    # be to take the average difference across all output nodes.\n",
    "    sal_result = result[guessed_digit][1]\n",
    "    diffs.append(abs(sal_result - max_actual_sql))"
   ]
  },
  {
   "cell_type": "code",
   "execution_count": 16,
   "metadata": {},
   "outputs": [
    {
     "data": {
      "image/png": "[encoded data removed]",
      "text/plain": [
       "<Figure size 640x480 with 1 Axes>"
      ]
     },
     "metadata": {},
     "output_type": "display_data"
    }
   ],
   "source": [
    "plt.imshow(np.array(diffs).reshape(image_np.shape), cmap='jet')\n",
    "plt.axis('off')\n",
    "plt.title(f\"Label: {label}\")\n",
    "plt.show()"
   ]
  },
  {
   "cell_type": "markdown",
   "metadata": {},
   "source": [
    "We now do the same in PyTorch, to see how the results compare."
   ]
  },
  {
   "cell_type": "code",
   "execution_count": 17,
   "metadata": {},
   "outputs": [
    {
     "name": "stderr",
     "output_type": "stream",
     "text": [
      "/tmp/ipykernel_7498/2420686613.py:6: UserWarning: Creating a tensor from a list of numpy.ndarrays is extremely slow. Please consider converting the list to a single numpy.ndarray with numpy.array() before converting to a tensor. (Triggered internally at ../torch/csrc/utils/tensor_new.cpp:278.)\n",
      "  result = model(torch.tensor([np.array(img)], dtype=torch.float32))\n"
     ]
    },
    {
     "data": {
      "image/png": "[encoded data removed]",
      "text/plain": [
       "<Figure size 640x480 with 1 Axes>"
      ]
     },
     "metadata": {},
     "output_type": "display_data"
    }
   ],
   "source": [
    "results = []\n",
    "for i in range(0, 28*28):\n",
    "    img = np.copy(image_np).flatten()\n",
    "    img[i] = (0 - 0.1307) / 0.3081\n",
    "    img = img.reshape(1, 28, 28)\n",
    "    result = model(torch.tensor([np.array(img)], dtype=torch.float32))\n",
    "    results.append(result)\n",
    "\n",
    "og_result = model(image.unsqueeze(0))\n",
    "\n",
    "diffs = []\n",
    "\n",
    "max_actual = max([x.item() for x in og_result[0]])\n",
    "for result in results:\n",
    "    max_result = max([x.item() for x in result[0]])\n",
    "    diffs.append(abs(max_result - max_actual))\n",
    "\n",
    "plt.imshow(np.array(diffs).reshape(image_np.shape), cmap='jet')\n",
    "plt.axis('off')\n",
    "plt.title(f\"Label: {label}\")\n",
    "plt.show()"
   ]
  },
  {
   "cell_type": "markdown",
   "metadata": {},
   "source": [
    "## Another alternative: multiple input sets\n",
    "\n",
    "Our `eval` query supports evaluating multiple input sets at once. We'll try to\n",
    "create an input set for each pixel, each time with that pixel missing from it."
   ]
  },
  {
   "cell_type": "code",
   "execution_count": 18,
   "metadata": {},
   "outputs": [],
   "source": [
    "def input_generator():\n",
    "    for input_set_id in range(0, 28*28):\n",
    "        img = np.copy(image_np).flatten()\n",
    "        img[input_set_id] = (0 - 0.1307) / 0.3081\n",
    "\n",
    "        for input_node_idx, pixel in enumerate(img):\n",
    "            yield [input_set_id, input_node_idx + 1, pixel]\n",
    "\n",
    "db.con.execute(\"TRUNCATE input\")\n",
    "db.batch_insert(input_generator(), 'input')"
   ]
  },
  {
   "cell_type": "code",
   "execution_count": null,
   "metadata": {},
   "outputs": [
    {
     "data": {
      "application/vnd.jupyter.widget-view+json": {
       "model_id": "e14b8c80a2284489bcb3fcadec224e87",
       "version_major": 2,
       "version_minor": 0
      },
      "text/plain": [
       "FloatProgress(value=0.0, layout=Layout(width='auto'), style=ProgressStyle(bar_color='black'))"
      ]
     },
     "metadata": {},
     "output_type": "display_data"
    }
   ],
   "source": [
    "#results = db.con.execute(eval_query).fetchall()"
   ]
  },
  {
   "cell_type": "markdown",
   "metadata": {},
   "source": [
    " This takes a while (~1m on 16GB RAM, 16 CPU machine), but we do get our\n",
    " results. We now have to massage this in python to get the saliency image."
   ]
  },
  {
   "cell_type": "code",
   "execution_count": 23,
   "metadata": {},
   "outputs": [
    {
     "name": "stdout",
     "output_type": "stream",
     "text": [
      "skip\n"
     ]
    }
   ],
   "source": [
    "%%script echo \"skip\"\n",
    "\n",
    "diffs = []\n",
    "max_actual = max([x.item() for x in og_result[0]])\n",
    "\n",
    "for k,g in itertools.groupby(results, lambda x: x[0]):\n",
    "    values = map(lambda x: x[1], g)\n",
    "    max_value = max(values)\n",
    "    diffs.append(abs(max_value - max_actual_sql))\n",
    "\n",
    "plt.imshow(np.array(diffs).reshape(image_np.shape), cmap='jet')\n",
    "plt.axis('off')\n",
    "plt.title(f\"Label: {label}\")\n",
    "plt.show()"
   ]
  },
  {
   "cell_type": "markdown",
   "metadata": {},
   "source": [
    "## Input weights\n",
    "\n",
    "Does it make sense to look only at the input weights of the input edges instead?\n",
    "This would be a \"generic saliency\", not for a single input. Let's try it."
   ]
  },
  {
   "cell_type": "code",
   "execution_count": 21,
   "metadata": {},
   "outputs": [
    {
     "data": {
      "image/png": "[encoded data removed]",
      "text/plain": [
       "<Figure size 640x480 with 1 Axes>"
      ]
     },
     "metadata": {},
     "output_type": "display_data"
    }
   ],
   "source": [
    "with open('queries/saliency_input_weights.sql') as file:\n",
    "    query = file.read()\n",
    "\n",
    "df = db.con.execute(query).df()\n",
    "plt.imshow(np.array(df['weighted_weight']).reshape(image_np.shape), cmap='jet')\n",
    "plt.axis('off')\n",
    "plt.title(f\"Label: {label}\")\n",
    "plt.show()"
   ]
  },
  {
   "cell_type": "markdown",
   "metadata": {},
   "source": [
    "Conclusion: it does not make sense. This simply shows how we constructed the\n",
    "convolutions using an extra hidden layer.\n",
    "\n",
    "TODO: test on the first linear layer instead. Is this feasible, with the convolutions?"
   ]
  },
  {
   "cell_type": "markdown",
   "metadata": {},
   "source": [
    "Let's instead look at our first example and see what the weights tell us there."
   ]
  },
  {
   "cell_type": "code",
   "execution_count": 22,
   "metadata": {},
   "outputs": [
    {
     "data": {
      "text/plain": [
       "<Axes: >"
      ]
     },
     "execution_count": 22,
     "metadata": {},
     "output_type": "execute_result"
    },
    {
     "data": {
      "image/png": "[encoded data removed]",
      "text/plain": [
       "<Figure size 640x480 with 1 Axes>"
      ]
     },
     "metadata": {},
     "output_type": "display_data"
    }
   ],
   "source": [
    "with open('queries/saliency_input_weights.sql') as file:\n",
    "    query = file.read()\n",
    "\n",
    "db.reconnect()\n",
    "db.con.execute(\"IMPORT DATABASE 'dbs/saliency.db'\")\n",
    "df = db.con.execute(query).df()\n",
    "df.plot.bar(y='weighted_weight')"
   ]
  },
  {
   "cell_type": "markdown",
   "metadata": {},
   "source": [
    "We can still see that the odd values contribute more to the output, as expected,\n",
    "though the effect is much less pronounced. I believe we can conclude that\n",
    "looking at the input weights alone is not a good approximation for saliency."
   ]
  }
 ],
 "metadata": {
  "kernelspec": {
   "display_name": "venv",
   "language": "python",
   "name": "python3"
  },
  "language_info": {
   "codemirror_mode": {
    "name": "ipython",
    "version": 3
   },
   "file_extension": ".py",
   "mimetype": "text/x-python",
   "name": "python",
   "nbconvert_exporter": "python",
   "pygments_lexer": "ipython3",
   "version": "3.10.12"
  }
 },
 "nbformat": 4,
 "nbformat_minor": 2
}
