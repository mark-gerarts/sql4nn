{
 "cells": [
  {
   "cell_type": "markdown",
   "metadata": {},
   "source": [
    "# Querying useless neurons - performance\n",
    "\n",
    "> TODO: use the same networks/scaling/sizes as the eval performance notebook!\n",
    "> Plot them against eachother.\n",
    "\n",
    "The useless neurons query is more bulky than our `eval` query, so it makes sense\n",
    "to look at its performance characteristics separately. We'll look at the query's\n",
    "performance from different points of view again:\n",
    "\n",
    "- How does the performance scale with the number of hidden layers?\n",
    "- How does the performance scale with the number of hidden nodes?\n",
    "- How does the performance scale with the number of input vectors?\n",
    "\n",
    "Note that much of this notebook is similar to that of [eval performance\n",
    "overview](./1.6%20Eval%20-%20Performance.ipynb)."
   ]
  },
  {
   "cell_type": "markdown",
   "metadata": {},
   "source": [
    "## Preliminaries"
   ]
  },
  {
   "cell_type": "code",
   "execution_count": 13,
   "metadata": {},
   "outputs": [],
   "source": [
    "import utils.duckdb as db\n",
    "import random\n",
    "import matplotlib.pyplot as plt\n",
    "import numpy as np\n",
    "import utils.perftest as perftest\n",
    "import pandas as pd"
   ]
  },
  {
   "cell_type": "markdown",
   "metadata": {},
   "source": [
    "The useless neuron overview query:"
   ]
  },
  {
   "cell_type": "code",
   "execution_count": 14,
   "metadata": {},
   "outputs": [],
   "source": [
    "with open('queries/useless_neurons_from_input.sql') as file:\n",
    "    query = file.read()"
   ]
  },
  {
   "cell_type": "markdown",
   "metadata": {},
   "source": [
    "We also compare it to the eval query performance, so we'll need that as well:"
   ]
  },
  {
   "cell_type": "code",
   "execution_count": 15,
   "metadata": {},
   "outputs": [],
   "source": [
    "with open('queries/eval_recursive_from_input.sql') as file:\n",
    "    eval_query = file.read()"
   ]
  },
  {
   "cell_type": "markdown",
   "metadata": {},
   "source": [
    "Some code to set up the database:"
   ]
  },
  {
   "cell_type": "code",
   "execution_count": 16,
   "metadata": {},
   "outputs": [],
   "source": [
    "def reset_db():\n",
    "    db._initialize_database()"
   ]
  },
  {
   "cell_type": "markdown",
   "metadata": {},
   "source": [
    "And the same utility function from [the eval performance\n",
    "overview](./1.6%20Eval%20-%20Performance.ipynb) to create a random network, and\n",
    "one to create random input values:"
   ]
  },
  {
   "cell_type": "code",
   "execution_count": 17,
   "metadata": {},
   "outputs": [],
   "source": [
    "def create_network(num_input_nodes, num_nodes_per_layer, num_hidden_layers, num_output_nodes):\n",
    "    def nodes():\n",
    "        node_id = 1\n",
    "\n",
    "        for i in range(0, num_input_nodes):\n",
    "            yield [node_id, 0, f\"input.{i}\"]\n",
    "            node_id += 1\n",
    "\n",
    "        for layer in range(0, num_hidden_layers):\n",
    "            for i in range(num_nodes_per_layer):\n",
    "                bias = random.uniform(-10, 10)\n",
    "                yield [node_id, bias, f\"layer_{layer}.{i}\"]\n",
    "                node_id += 1\n",
    "\n",
    "        for i in range(0, num_output_nodes):\n",
    "            bias = random.uniform(-10, 10)\n",
    "            yield [node_id, bias, f\"output.{i}\"]\n",
    "            node_id += 1\n",
    "\n",
    "    def edges():\n",
    "        # Insert edges from input nodes to first hidden layer\n",
    "        for i_from in range(0, num_input_nodes):\n",
    "            for i_to in range(num_input_nodes, num_input_nodes + num_nodes_per_layer):\n",
    "                from_node_id = i_from + 1\n",
    "                to_node_id = i_to + 1\n",
    "                weight = random.uniform(-10, 10)\n",
    "                yield [from_node_id, to_node_id, weight]\n",
    "\n",
    "        # Insert edges between hidden nodes\n",
    "        for layer in range(0, num_hidden_layers - 1):\n",
    "            for i_from in range(0, num_nodes_per_layer):\n",
    "                for i_to in range(0, num_nodes_per_layer):\n",
    "                    from_node_id = num_input_nodes + (layer * num_nodes_per_layer) + i_from + 1\n",
    "                    to_node_id = num_input_nodes + ((layer + 1) * num_nodes_per_layer) + i_to + 1\n",
    "                    weight = random.uniform(-10, 10)\n",
    "                    yield [from_node_id, to_node_id, weight]\n",
    "\n",
    "        # And finally, insert edges from the last hidden layer to the output nodes\n",
    "        for i_from in range(0, num_nodes_per_layer):\n",
    "            for i_to in range(0, num_output_nodes):\n",
    "                from_node_id = num_input_nodes + ((num_hidden_layers - 1) * num_nodes_per_layer) + i_from + 1\n",
    "                to_node_id = num_input_nodes + (num_hidden_layers * num_nodes_per_layer) + i_to + 1\n",
    "                weight = random.uniform(-10, 10)\n",
    "                yield [from_node_id, to_node_id, weight]\n",
    "\n",
    "    db.batch_insert(nodes(), \"node\")\n",
    "    db.batch_insert(edges(), \"edge\")\n",
    "\n",
    "def create_random_input(num_input_nodes, num_input_sets):\n",
    "    def input_generator():\n",
    "        for input_set_id in range(0, num_input_sets):\n",
    "            for input_node_idx in range(0, num_input_nodes):\n",
    "                yield [input_set_id, input_node_idx, random.uniform(-10, 10)]\n",
    "\n",
    "\n",
    "    db.con.execute(\"TRUNCATE TABLE input\")\n",
    "    df = pd.DataFrame(input_generator())\n",
    "    db.con.execute(f\"INSERT INTO input SELECT * FROM df\")"
   ]
  },
  {
   "cell_type": "markdown",
   "metadata": {},
   "source": [
    "## Scaling the number of hidden layers\n",
    "\n",
    "We create a neural network with random weights and biases, increasing the number\n",
    "of layers in each iteration. We also immediately collect timings for the regular\n",
    "`eval` query as well, since we want to see how they compare relative to each\n",
    "other."
   ]
  },
  {
   "cell_type": "code",
   "execution_count": 18,
   "metadata": {},
   "outputs": [
    {
     "data": {
      "image/png": "[encoded data removed]",
      "text/plain": [
       "<Figure size 640x480 with 1 Axes>"
      ]
     },
     "metadata": {},
     "output_type": "display_data"
    }
   ],
   "source": [
    "class HiddenLayersBase(perftest.PerfTest):\n",
    "    def setup_run(self, hidden_layers):\n",
    "        reset_db()\n",
    "        create_network(\n",
    "            num_input_nodes=2,\n",
    "            num_nodes_per_layer=3,\n",
    "            num_hidden_layers=hidden_layers,\n",
    "            num_output_nodes=2\n",
    "        )\n",
    "        create_random_input(2, 1)\n",
    "\n",
    "    def x_labels(self):\n",
    "        return [5, 10, 15, 20]\n",
    "\n",
    "class UselessHiddenLayersUseless(HiddenLayersBase):\n",
    "\n",
    "    def run(self, hidden_layers):\n",
    "        results = db.con.execute(query)\n",
    "\n",
    "# TODO: use the values from the previous notebook, we have them.\n",
    "#       Using the same name should suffice.\n",
    "class UselessHiddenLayersEval(HiddenLayersBase):\n",
    "    def run(self, hidden_layers):\n",
    "        results = db.con.execute(eval_query)\n",
    "\n",
    "\n",
    "df_useless = perftest.measure_performance(UselessHiddenLayersUseless())\n",
    "df_eval = perftest.measure_performance(UselessHiddenLayersEval())\n",
    "\n",
    "perftest.plot_dfs(\n",
    "    [\n",
    "        (df_useless, \"Useless neurons\", \"o\"),\n",
    "        (df_eval, \"Regular eval\", \"x\")\n",
    "    ],\n",
    "    \"Number of hidden layers\"\n",
    ")"
   ]
  },
  {
   "cell_type": "markdown",
   "metadata": {},
   "source": [
    "We can see that the useless neuron query still scales linearly with the number\n",
    "of hidden layers, but performs noticeably worse than the `eval` query."
   ]
  },
  {
   "cell_type": "markdown",
   "metadata": {},
   "source": [
    "## Scaling the number of hidden nodes\n",
    "\n",
    "Now instead of increasing the number of hidden layers, we'll use a fixed amount\n",
    "(10) and scale up the number of hidden nodes in each layer."
   ]
  },
  {
   "cell_type": "code",
   "execution_count": 19,
   "metadata": {},
   "outputs": [
    {
     "name": "stdout",
     "output_type": "stream",
     "text": [
      "TODO: rewrite\n"
     ]
    }
   ],
   "source": [
    "%%script echo TODO: rewrite\n",
    "\n",
    "useless_timings = []\n",
    "eval_timings = []\n",
    "\n",
    "def measure_performance(num_nodes_per_layer):\n",
    "    print(f\"Querying {num_nodes_per_layer}...\")\n",
    "\n",
    "    reset_db()\n",
    "    create_network(\n",
    "        num_input_nodes=2,\n",
    "        num_nodes_per_layer=num_nodes_per_layer,\n",
    "        num_hidden_layers=10,\n",
    "        num_output_nodes=2\n",
    "    )\n",
    "    create_random_input(2, 1)\n",
    "\n",
    "    start = time.time()\n",
    "    output = con.sql(query).fetchall()\n",
    "    end = time.time()\n",
    "    useless_timings.append(end - start)\n",
    "\n",
    "    start = time.time()\n",
    "    output = con.sql(eval_query).fetchall()\n",
    "    end = time.time()\n",
    "    eval_timings.append(end - start)\n",
    "\n",
    "for num_nodes_per_layer in range(1, 11):\n",
    "    measure_performance(num_nodes_per_layer * 10)"
   ]
  },
  {
   "cell_type": "code",
   "execution_count": 20,
   "metadata": {},
   "outputs": [
    {
     "name": "stdout",
     "output_type": "stream",
     "text": [
      "TODO: rewrite\n"
     ]
    }
   ],
   "source": [
    "%%script echo TODO: rewrite\n",
    "\n",
    "xs = range(1, 11)\n",
    "y1 = useless_timings\n",
    "y2 = eval_timings\n",
    "\n",
    "bar_width = 0.35\n",
    "index = np.arange(len(xs))\n",
    "\n",
    "plt.bar(index, y1, bar_width, label='Useless neurons query time')\n",
    "plt.bar(index + bar_width, y2, bar_width, label='Eval query time')\n",
    "\n",
    "plt.xlabel('Number of hidden nodes per layer (x10)')\n",
    "plt.ylabel('Execution time (s)')\n",
    "plt.title('Query performance - Useless neurons vs eval')\n",
    "\n",
    "plt.xticks(index + bar_width / 2, xs)\n",
    "plt.legend()\n",
    "plt.show()"
   ]
  },
  {
   "cell_type": "markdown",
   "metadata": {},
   "source": [
    "We can see a drastic difference between the two queries. The useless query\n",
    "overview seems to scale quadratically with the number of hidden nodes per layer."
   ]
  },
  {
   "cell_type": "markdown",
   "metadata": {},
   "source": [
    "## Scaling the number of input vectors\n",
    "\n",
    "Let's also look at how our query performs when we increase the number of input\n",
    "vectors that we evaluate in one go. We'll take a reasonably small neural network\n",
    "with 5 hidden layers, 50 hidden nodes per layer, 784 input nodes, and 10 output\n",
    "nodes. The input and output nodes correspond to the MNIST dataset, which has\n",
    "28x28 images of 10 different classes (the digits)."
   ]
  },
  {
   "cell_type": "code",
   "execution_count": 21,
   "metadata": {},
   "outputs": [
    {
     "name": "stdout",
     "output_type": "stream",
     "text": [
      "TODO: rewrite\n"
     ]
    }
   ],
   "source": [
    "%%script echo TODO: rewrite\n",
    "\n",
    "# Our network is static, so we only need to create it once.\n",
    "reset_db()\n",
    "create_network(\n",
    "    num_input_nodes=784,\n",
    "    num_nodes_per_layer=50,\n",
    "    num_hidden_layers=5,\n",
    "    num_output_nodes=10\n",
    ")"
   ]
  },
  {
   "cell_type": "code",
   "execution_count": 22,
   "metadata": {},
   "outputs": [
    {
     "name": "stdout",
     "output_type": "stream",
     "text": [
      "TODO: rewrite\n"
     ]
    }
   ],
   "source": [
    "%%script echo TODO: rewrite\n",
    "\n",
    "useless_timings = []\n",
    "eval_timings = []\n",
    "\n",
    "def measure_performance(num_input_sets):\n",
    "    print(f\"Querying {num_input_sets}...\")\n",
    "\n",
    "    # TODO: this doesn't match the amount of input nodes (2 vs 784)\n",
    "    create_random_input(2, num_input_sets)\n",
    "\n",
    "    start = time.time()\n",
    "    output = con.sql(query).fetchall()\n",
    "    end = time.time()\n",
    "    useless_timings.append(end - start)\n",
    "\n",
    "    start = time.time()\n",
    "    output = con.sql(eval_query).fetchall()\n",
    "    end = time.time()\n",
    "    eval_timings.append(end - start)\n",
    "\n",
    "    return end - start\n",
    "\n",
    "for num_input_sets in range(1, 11):\n",
    "    measure_performance(num_input_sets * 10)"
   ]
  },
  {
   "cell_type": "code",
   "execution_count": 23,
   "metadata": {},
   "outputs": [
    {
     "name": "stdout",
     "output_type": "stream",
     "text": [
      "TODO: rewrite\n"
     ]
    }
   ],
   "source": [
    "%%script echo TODO: rewrite\n",
    "\n",
    "xs = range(1, 11)\n",
    "y1 = useless_timings\n",
    "y2 = eval_timings\n",
    "\n",
    "bar_width = 0.35\n",
    "index = np.arange(len(xs))\n",
    "\n",
    "plt.bar(index, y1, bar_width, label='Useless neurons query time')\n",
    "plt.bar(index + bar_width, y2, bar_width, label='Eval query time')\n",
    "\n",
    "plt.xlabel('Number of input vectors (x10)')\n",
    "plt.ylabel('Execution time (s)')\n",
    "plt.title('Query performance - Useless neurons vs eval')\n",
    "\n",
    "plt.xticks(index + bar_width / 2, xs)\n",
    "plt.legend()\n",
    "plt.show()"
   ]
  },
  {
   "cell_type": "markdown",
   "metadata": {},
   "source": [
    "We see linear scaling again for the number of input vectors, but we perform\n",
    "significantly worse than the regular `eval` query."
   ]
  }
 ],
 "metadata": {
  "language_info": {
   "name": "python"
  }
 },
 "nbformat": 4,
 "nbformat_minor": 2
}
