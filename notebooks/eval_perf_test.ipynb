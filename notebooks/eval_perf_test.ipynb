{
 "cells": [
  {
   "cell_type": "code",
   "execution_count": 1,
   "metadata": {},
   "outputs": [
    {
     "data": {
      "text/plain": [
       "<duckdb.duckdb.DuckDBPyConnection at 0x7a7508084670>"
      ]
     },
     "execution_count": 1,
     "metadata": {},
     "output_type": "execute_result"
    }
   ],
   "source": [
    "import torch\n",
    "import numpy as np\n",
    "import utils.duckdb as db\n",
    "import pandas as pd\n",
    "import utils.nn as nn\n",
    "import copy\n",
    "import os\n",
    "import torch.nn as nn\n",
    "import torch.nn.functional as F\n",
    "\n",
    "class Net(nn.Module):\n",
    "    def __init__(self):\n",
    "        super(Net, self).__init__()\n",
    "        self.conv1 = nn.Conv2d(1, 32, 3, 1)\n",
    "        self.conv2 = nn.Conv2d(32, 64 // 4, 3, 1)\n",
    "        self.dropout1 = nn.Dropout(0.25)\n",
    "        self.dropout2 = nn.Dropout(0.5)\n",
    "        self.fc1 = nn.Linear(9216, 128)\n",
    "        self.fc2 = nn.Linear(128, 10)\n",
    "\n",
    "    def forward(self, x):\n",
    "        x = self.conv1(x)\n",
    "        x = F.relu(x)\n",
    "        x = self.conv2(x)\n",
    "        x = F.relu(x)\n",
    "        x = self.dropout1(x)\n",
    "        x = torch.flatten(x, 1)\n",
    "        x = self.fc1(x)\n",
    "        x = F.relu(x)\n",
    "        x = self.dropout2(x)\n",
    "        x = self.fc2(x)\n",
    "        output = F.log_softmax(x, dim=1)\n",
    "        return output\n",
    "\n",
    "model = Net()\n",
    "model.load_state_dict(torch.load('models/mnist_cnn.pt', weights_only=True))\n",
    "model.eval()\n",
    "\n",
    "db.reconnect()\n",
    "db.con.execute(f\"IMPORT DATABASE 'dbs/eval_cnn.db'\")"
   ]
  },
  {
   "cell_type": "code",
   "execution_count": 2,
   "metadata": {},
   "outputs": [
    {
     "data": {
      "image/png": "[encoded data removed]",
      "text/plain": [
       "<Figure size 640x480 with 1 Axes>"
      ]
     },
     "metadata": {},
     "output_type": "display_data"
    }
   ],
   "source": [
    "from torchvision import datasets, transforms\n",
    "import matplotlib.pyplot as plt\n",
    "\n",
    "dataset = datasets.MNIST('../data', train=False)\n",
    "image, label = dataset[0]\n",
    "\n",
    "image = transforms.ToTensor()(image)\n",
    "image_np = image.squeeze().numpy()\n",
    "\n",
    "plt.imshow(image_np, cmap='gray')\n",
    "plt.title(f\"Label: {label}\")\n",
    "plt.axis('off')  # Turn off axis\n",
    "plt.show()"
   ]
  },
  {
   "cell_type": "code",
   "execution_count": 69,
   "metadata": {},
   "outputs": [
    {
     "data": {
      "text/plain": [
       "┌──────────────┬───────────────────┬────────────────────────┐\n",
       "│ input_set_id │ removed_neuron_id │        saliency        │\n",
       "│    int32     │       int32       │         double         │\n",
       "├──────────────┼───────────────────┼────────────────────────┤\n",
       "│            0 │                 1 │    0.09289022867057094 │\n",
       "│            0 │                 2 │    0.07934531481239798 │\n",
       "│            0 │                 3 │ 0.00015843801909304345 │\n",
       "│            0 │                 4 │  0.0001482533768199512 │\n",
       "│            0 │                 5 │    0.11112653791483643 │\n",
       "│            0 │                 6 │ 2.5480817298945135e-05 │\n",
       "│            0 │                 7 │    0.09284612290702757 │\n",
       "│            0 │                 8 │    0.09274012145037198 │\n",
       "│            0 │                 9 │    0.11140223246863348 │\n",
       "│            0 │                10 │    0.07988388716460812 │\n",
       "│            · │                 · │             ·          │\n",
       "│            · │                 · │             ·          │\n",
       "│            · │                 · │             ·          │\n",
       "│            0 │                 1 │   0.057759152965397076 │\n",
       "│            0 │                 2 │    0.07130406682357003 │\n",
       "│            0 │                 3 │    0.15080781965506104 │\n",
       "│            0 │                 4 │    0.15079763501278795 │\n",
       "│            0 │                 5 │    0.03952284372113157 │\n",
       "│            0 │                 6 │    0.15067486245326694 │\n",
       "│            0 │                 7 │   0.057803258728940446 │\n",
       "│            0 │                 8 │    0.05790926018559603 │\n",
       "│            0 │                 9 │    0.03924714916733453 │\n",
       "│            0 │                10 │    0.07076549447135988 │\n",
       "├──────────────┴───────────────────┴────────────────────────┤\n",
       "│ 100 rows (20 shown)                             3 columns │\n",
       "└───────────────────────────────────────────────────────────┘"
      ]
     },
     "metadata": {},
     "output_type": "display_data"
    },
    {
     "data": {
      "text/plain": [
       "┌─────────────┬──────────────┬───────────┬────────────────────────┐\n",
       "│ i_to_remove │ input_set_id │ output_id │        saliency        │\n",
       "│    int32    │    int32     │   int32   │         double         │\n",
       "├─────────────┼──────────────┼───────────┼────────────────────────┤\n",
       "│           3 │            0 │     31769 │                    0.0 │\n",
       "│           9 │            0 │     31768 │                    0.0 │\n",
       "│          10 │            0 │     31766 │  6.030622687575385e-05 │\n",
       "│          10 │            0 │     31765 │  8.339615819110552e-06 │\n",
       "│          10 │            0 │     31763 │ 3.0576894915673725e-05 │\n",
       "│           1 │            0 │     31763 │                    0.0 │\n",
       "│           6 │            0 │     31762 │                    0.0 │\n",
       "│           8 │            0 │     31769 │                    0.0 │\n",
       "│          10 │            0 │     31767 │  0.0003332466583092393 │\n",
       "│           7 │            0 │     31767 │                    0.0 │\n",
       "│           · │            · │       ·   │                     ·  │\n",
       "│           · │            · │       ·   │                     ·  │\n",
       "│           · │            · │       ·   │                     ·  │\n",
       "│           3 │            0 │     31767 │                    0.0 │\n",
       "│           7 │            0 │     31766 │  3.469446951953614e-18 │\n",
       "│           6 │            0 │     31766 │                    0.0 │\n",
       "│           5 │            0 │     31766 │  3.469446951953614e-18 │\n",
       "│           1 │            0 │     31765 │  1.734723475976807e-18 │\n",
       "│           2 │            0 │     31764 │  3.469446951953614e-18 │\n",
       "│           9 │            0 │     31762 │                    0.0 │\n",
       "│           5 │            0 │     31762 │                    0.0 │\n",
       "│           7 │            0 │     31761 │                    0.0 │\n",
       "│           6 │            0 │     31761 │                    0.0 │\n",
       "├─────────────┴──────────────┴───────────┴────────────────────────┤\n",
       "│ 100 rows (20 shown)                                   4 columns │\n",
       "└─────────────────────────────────────────────────────────────────┘"
      ]
     },
     "metadata": {},
     "output_type": "display_data"
    }
   ],
   "source": [
    "with open('queries/saliency.sql') as file:\n",
    "    eval_faster_query = file.read()\n",
    "\n",
    "with open('queries/saliency_faster.sql') as file:\n",
    "    eval_query = file.read()\n",
    "\n",
    "display(db.con.sql(eval_faster_query))\n",
    "display(db.con.sql(eval_query))"
   ]
  },
  {
   "cell_type": "code",
   "execution_count": 71,
   "metadata": {},
   "outputs": [
    {
     "name": "stdout",
     "output_type": "stream",
     "text": [
      "Original query: 0.22048795223236084\n",
      "Faster query: 0.079925799369812\n"
     ]
    }
   ],
   "source": [
    "import time\n",
    "\n",
    "def load_image_into_input_table(image):\n",
    "    db.con.execute(\"TRUNCATE input\")\n",
    "    for i, pixel in enumerate(image.flatten()):\n",
    "        db.con.execute(\"\"\"\n",
    "            INSERT INTO input (input_set_id, input_node_idx, input_value)\n",
    "            VALUES (0, $input_node_idx, $input_value)\n",
    "        \"\"\",\n",
    "        {'input_node_idx': i + 1, 'input_value': pixel.item()})\n",
    "    db.con.sql(\"EXPORT DATABASE 'dbs/eval_cnn_w_input.db'\")\n",
    "\n",
    "load_image_into_input_table(image)\n",
    "\n",
    "with open('queries/eval_recursive_from_input.sql') as file:\n",
    "    original_query = file.read()\n",
    "\n",
    "with open('queries/eval_recursive_from_input_optim.sql') as file:\n",
    "    new_query = file.read()\n",
    "\n",
    "timings = []\n",
    "for i in range(0, 10):\n",
    "    start = time.time()\n",
    "    output = db.con.execute(original_query)\n",
    "    end = time.time()\n",
    "    timings.append(end - start)\n",
    "\n",
    "print(f\"Original query: {sum(timings) / len(timings)}\")\n",
    "\n",
    "timings = []\n",
    "for i in range(0, 10):\n",
    "    start = time.time()\n",
    "    db.con.execute(new_query)\n",
    "    end = time.time()\n",
    "    timings.append(end - start)\n",
    "\n",
    "print(f\"Faster query: {sum(timings) / len(timings)}\")"
   ]
  }
 ],
 "metadata": {
  "language_info": {
   "name": "python"
  }
 },
 "nbformat": 4,
 "nbformat_minor": 2
}
