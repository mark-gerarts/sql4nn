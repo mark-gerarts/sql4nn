{
 "cells": [
  {
   "cell_type": "markdown",
   "metadata": {},
   "source": [
    "# ONNX\n",
    "\n",
    "In our examples, we rely on PyTorch's `statedict`, making our methods usable\n",
    "only for PyTorch models. However, we aim to extend our approach to\n",
    "[ONNX](https://onnx.ai) files. ONNX is an open format for representing machine\n",
    "learning models, supported by most major frameworks. By using ONNX files as the\n",
    "starting point, we gain compatibility with a broad range of frameworks.\n",
    "\n",
    "This notebook is still a work in progress, and uses some hardcoded assumptions.\n",
    "\n",
    "## Creating a neural network\n",
    "\n",
    "We'll start from the neural network from [the integral\n",
    "example](./3.1%20Integral.ipynb):"
   ]
  },
  {
   "cell_type": "code",
   "execution_count": 1,
   "metadata": {},
   "outputs": [],
   "source": [
    "import torch\n",
    "import torch.onnx\n",
    "import onnx\n",
    "import numpy as np\n",
    "import utils.nn as nn\n",
    "import utils.duckdb as db\n",
    "import matplotlib.pyplot as plt\n",
    "\n",
    "torch.manual_seed(110033);\n",
    "\n",
    "def f(x):\n",
    "    if x < 0:\n",
    "        return 0\n",
    "    elif 0 <= x < 5:\n",
    "        return x\n",
    "    elif 5 <= x < 10:\n",
    "        return 10-x\n",
    "    else:\n",
    "        return 0\n",
    "\n",
    "x_train = np.linspace(-5, 15, 1000)\n",
    "y_train = np.array([f(x) for x in x_train])\n",
    "\n",
    "model = nn.ReLUFNN(input_size=1, output_size=1, hidden_size=3, num_hidden_layers=1)\n",
    "nn.train(model, x_train, y_train, save_path=\"models/onnx.pt\")"
   ]
  },
  {
   "cell_type": "markdown",
   "metadata": {},
   "source": [
    "We can then export this model to ONNX:"
   ]
  },
  {
   "cell_type": "code",
   "execution_count": 2,
   "metadata": {},
   "outputs": [],
   "source": [
    "dummy_input = torch.randn(1, 1)  # A dummy input for the export\n",
    "onnx_path = \"simple_nn.onnx\"\n",
    "torch.onnx.export(model, dummy_input, onnx_path, input_names=['input'], output_names=['output'])"
   ]
  },
  {
   "cell_type": "markdown",
   "metadata": {},
   "source": [
    "Note that - for now - we are explicitly passing the input and output names\n",
    "from PyTorch. We need to adapt this code to be more generic."
   ]
  },
  {
   "cell_type": "markdown",
   "metadata": {},
   "source": [
    "## Extracting the neural network from an ONNX file\n",
    "\n",
    "Now that we have a trained neural network as an ONNX file, let's see if we can\n",
    "extract it in some way so that we can put the network in a database.\n",
    "\n",
    "We can use [netron](https://github.com/lutzroeder/netron) to look at the\n",
    "generated ONNX graph."
   ]
  },
  {
   "cell_type": "code",
   "execution_count": 3,
   "metadata": {},
   "outputs": [],
   "source": [
    "# Uncomment to launch a browser with Netron\n",
    "#import netron\n",
    "#netron.start('simple_nn.onnx', 8081)"
   ]
  },
  {
   "cell_type": "markdown",
   "metadata": {},
   "source": [
    "Running netron yields the following ONNX graph:\n",
    "\n",
    "![Netron screenshot](./assets/netron_screenshot.png)\n",
    "\n",
    "By inspecting the matrix multiplications, we can retrieve the values of the\n",
    "weights and biases. The following code is an initial, hardcoded, proof of\n",
    "concept, as it relies on the names given to the values in PyTorch and assumes\n",
    "only one hidden layer. In later\n",
    "iterations, we'll generalize this."
   ]
  },
  {
   "cell_type": "code",
   "execution_count": 4,
   "metadata": {},
   "outputs": [
    {
     "data": {
      "text/plain": [
       "OrderedDict([('linear_relu_stack.0.weight',\n",
       "              tensor([[-0.3499],\n",
       "                      [-0.6916],\n",
       "                      [-1.4708]])),\n",
       "             ('linear_relu_stack.0.bias',\n",
       "              tensor([ 3.4990e+00,  3.4577e+00, -1.6059e-05])),\n",
       "             ('linear_relu_stack.2.weight',\n",
       "              tensor([[ 2.8579, -2.8920,  0.6799]])),\n",
       "             ('linear_relu_stack.2.bias', tensor([2.4417e-05]))])"
      ]
     },
     "execution_count": 4,
     "metadata": {},
     "output_type": "execute_result"
    }
   ],
   "source": [
    "model.state_dict()"
   ]
  },
  {
   "cell_type": "code",
   "execution_count": 5,
   "metadata": {},
   "outputs": [],
   "source": [
    "onnx_model = onnx.load(onnx_path)\n",
    "\n",
    "try:\n",
    "    input_dims = onnx_model.graph.input[0].type.tensor_type.shape.dim[0].dim_value\n",
    "    output_dims = onnx_model.graph.output[0].type.tensor_type.shape.dim[0].dim_value\n",
    "except:\n",
    "    raise Exception(\"Could not determine input/output dimensions from ONXX model\")\n",
    "\n",
    "if input_dims != 1 or output_dims != 1:\n",
    "    raise Exception(\"Input and output dimensions are expected to be 1\")\n",
    "\n",
    "# Note: our approach to extract the weights and biases from the network assumes\n",
    "# the hidden layer is named \"hidden\" and the output layer is named \"output\".\n",
    "# This is not necessarily always the case.\n",
    "def find_initializer_by_name(model, initializer_name):\n",
    "    for initializer in model.graph.initializer:\n",
    "        if initializer.name == initializer_name:\n",
    "            return initializer\n",
    "\n",
    "    return None\n",
    "# hidden.weight, hidden.bias, output.weight, output.bias\n",
    "\n",
    "def find_values_by_initializer_name(model, initializer_name):\n",
    "    initializer = find_initializer_by_name(model, initializer_name)\n",
    "    if not initializer:\n",
    "        return None\n",
    "\n",
    "    return onnx.numpy_helper.to_array(initializer)\n",
    "\n",
    "hidden_weights = find_values_by_initializer_name(onnx_model, \"linear_relu_stack.0.weight\")\n",
    "hidden_biases = find_values_by_initializer_name(onnx_model, \"linear_relu_stack.0.bias\")\n",
    "output_weights = find_values_by_initializer_name(onnx_model, \"linear_relu_stack.2.weight\")\n",
    "output_biases = find_values_by_initializer_name(onnx_model, \"linear_relu_stack.2.bias\")"
   ]
  },
  {
   "cell_type": "markdown",
   "metadata": {},
   "source": [
    "We can use the weights and biases to reconstruct the state dict:"
   ]
  },
  {
   "cell_type": "code",
   "execution_count": 6,
   "metadata": {},
   "outputs": [],
   "source": [
    "state_dict = {\n",
    "    'linear_relu_stack.0.weight': torch.tensor(hidden_weights, dtype=torch.float32),\n",
    "    'linear_relu_stack.0.bias': torch.tensor(hidden_biases, dtype=torch.float32),\n",
    "    'linear_relu_stack.2.weight': torch.tensor(output_weights, dtype=torch.float32),\n",
    "    'linear_relu_stack.2.bias': torch.tensor(output_biases, dtype=torch.float32),\n",
    "}"
   ]
  },
  {
   "cell_type": "markdown",
   "metadata": {},
   "source": [
    "Let's load this `state_dict` into a database."
   ]
  },
  {
   "cell_type": "code",
   "execution_count": 7,
   "metadata": {},
   "outputs": [],
   "source": [
    "db.load_state_dict_into_db(state_dict)"
   ]
  },
  {
   "cell_type": "markdown",
   "metadata": {},
   "source": [
    "We'll use our [`eval` function](./1.4%20Eval%20-%20recursive.ipynb) to see if\n",
    "things are working as expected."
   ]
  },
  {
   "cell_type": "code",
   "execution_count": 8,
   "metadata": {},
   "outputs": [],
   "source": [
    "def eval_nn(input_value):\n",
    "    input_clauses = []\n",
    "    for input_set, input in enumerate(input_value):\n",
    "        for i,_ in enumerate(input):\n",
    "            input_clauses.append(f\"\"\"\n",
    "                SELECT\n",
    "                    {input_set} AS input_set_id,\n",
    "                    {i + 1} AS input_node_idx,\n",
    "                    ? AS input_value\n",
    "            \"\"\")\n",
    "\n",
    "    query = f\"\"\"\n",
    "        WITH RECURSIVE input_values AS (\n",
    "            {\" UNION \".join(input_clauses)}\n",
    "        ),\n",
    "        input_nodes AS (\n",
    "            SELECT\n",
    "                id,\n",
    "                bias,\n",
    "                ROW_NUMBER() OVER (ORDER BY id) AS input_node_idx\n",
    "            FROM node\n",
    "            WHERE id NOT IN\n",
    "            (SELECT dst FROM edge)\n",
    "        ),\n",
    "        output_nodes AS (\n",
    "            SELECT id\n",
    "            FROM node\n",
    "            WHERE id NOT IN\n",
    "            (SELECT src FROM edge)\n",
    "        ),\n",
    "        tx AS (\n",
    "            -- Base case (t1)\n",
    "            SELECT\n",
    "                v.input_set_id AS input_set_id,\n",
    "                GREATEST(\n",
    "                    0,\n",
    "                    n.bias + SUM(e.weight * v.input_value)\n",
    "                ) AS value,\n",
    "                e.dst AS id\n",
    "            FROM edge e\n",
    "            JOIN input_nodes i ON i.id = e.src\n",
    "            JOIN node n ON e.dst = n.id\n",
    "            JOIN input_values v ON i.input_node_idx = v.input_node_idx\n",
    "            GROUP BY e.dst, n.bias, v.input_set_id\n",
    "\n",
    "            UNION ALL\n",
    "\n",
    "            -- Recursive case\n",
    "            SELECT\n",
    "                tx.input_set_id AS input_set_id,\n",
    "                GREATEST(\n",
    "                    0,\n",
    "                    n.bias + SUM(e.weight * tx.value)\n",
    "                ) AS value,\n",
    "                e.dst AS id\n",
    "            FROM edge e\n",
    "            JOIN tx ON tx.id = e.src\n",
    "            JOIN node n ON e.dst = n.id\n",
    "            GROUP BY e.dst, n.bias, tx.input_set_id\n",
    "        ),\n",
    "        -- As the last step, repeat the calculation for the output nodes, but omit the\n",
    "        -- ReLU this time (per definition)\n",
    "        t_out AS (\n",
    "            SELECT\n",
    "                tx.input_set_id AS input_set_id,\n",
    "                n.bias + SUM(e.weight * tx.value) AS value,\n",
    "                e.dst AS output_node_id\n",
    "            FROM edge e\n",
    "            JOIN output_nodes o ON e.dst = o.id\n",
    "            JOIN node n ON o.id = n.id\n",
    "            JOIN tx ON tx.id = e.src\n",
    "            GROUP BY e.dst, n.bias, tx.input_set_id\n",
    "        )\n",
    "        SELECT * FROM t_out ORDER BY input_set_id, output_node_id;\n",
    "    \"\"\"\n",
    "\n",
    "    args = []\n",
    "    for input_set in input_value:\n",
    "        for value in input_set:\n",
    "            args.append(value)\n",
    "\n",
    "    results = [[] for _ in range(0, len(input_value))]\n",
    "    for row in db.con.execute(query, args).fetchall():\n",
    "        (input_set_id, output, output_node_id) = row\n",
    "        results[input_set_id].append(output)\n",
    "\n",
    "    return np.array(results)"
   ]
  },
  {
   "cell_type": "code",
   "execution_count": 9,
   "metadata": {},
   "outputs": [
    {
     "data": {
      "image/png": "[encoded data removed]",
      "text/plain": [
       "<Figure size 640x480 with 1 Axes>"
      ]
     },
     "metadata": {},
     "output_type": "display_data"
    }
   ],
   "source": [
    "# Since we are evaluating a lot of points in 1 query, increase our limits\n",
    "db.con.execute(\"SET max_expression_depth TO 1100\")\n",
    "\n",
    "with torch.no_grad():\n",
    "    model.eval()\n",
    "    y_model = model(torch.tensor(x_train, dtype=torch.float32).unsqueeze(1)).detach().numpy()\n",
    "y_sql = eval_nn(np.expand_dims(x_train, axis=1))\n",
    "\n",
    "plt.plot(x_train, y_model, 'r', label='Neural Network output')\n",
    "plt.plot(x_train, y_sql, 'b', label='SQL query eval output')\n",
    "plt.legend()\n",
    "plt.show()"
   ]
  },
  {
   "cell_type": "markdown",
   "metadata": {},
   "source": [
    "As we can see, our methods still work, even though we started from an ONNX file."
   ]
  },
  {
   "cell_type": "markdown",
   "metadata": {},
   "source": [
    "## Conclusion\n",
    "\n",
    "We can read all the weights and biases from an ONNX file, store these in a\n",
    "database, and run our queries on them. There is no need for a hard dependency on\n",
    "PyTorch.\n",
    "\n",
    "We still need to work on generalizing the parsing of the ONNX file, since it\n",
    "still relies on hardcoded assumptions."
   ]
  }
 ],
 "metadata": {
  "kernelspec": {
   "display_name": "venv",
   "language": "python",
   "name": "python3"
  },
  "language_info": {
   "codemirror_mode": {
    "name": "ipython",
    "version": 3
   },
   "file_extension": ".py",
   "mimetype": "text/x-python",
   "name": "python",
   "nbconvert_exporter": "python",
   "pygments_lexer": "ipython3",
   "version": "3.10.12"
  }
 },
 "nbformat": 4,
 "nbformat_minor": 2
}
