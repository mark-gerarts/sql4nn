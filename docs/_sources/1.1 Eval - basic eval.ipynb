{
 "cells": [
  {
   "cell_type": "markdown",
   "metadata": {},
   "source": [
    "# Basic eval function\n",
    "\n",
    "The \"Query Languages for Neural Networks\" paper describes how we can implement\n",
    "an *eval* term in FO(SUM), which returns the output of a model for a given\n",
    "input. Our goal is to translate this term into a SQL query. In this chapter, we\n",
    "start from the simplest case, gradually building up in complexity in later\n",
    "chapters.\n",
    "\n",
    "## Creating the model\n",
    "\n",
    "To get started, we first need a neural network. We always assume a fully\n",
    "connected feed-forward neural network with ReLU activation layers.\n",
    "\n",
    "We create a simple network with the following properties:\n",
    "\n",
    "- 1 input neuron\n",
    "- 1 output neuron\n",
    "- 2 hidden layers with 2 neurons each"
   ]
  },
  {
   "cell_type": "code",
   "execution_count": 1,
   "metadata": {},
   "outputs": [],
   "source": [
    "import torch\n",
    "import numpy as np\n",
    "import matplotlib.pyplot as plt\n",
    "import utils.sqlite as db\n",
    "import utils.nn as nn\n",
    "import pandas as pd\n",
    "\n",
    "# Add a manual seed for reproducibility.\n",
    "torch.manual_seed(223)\n",
    "\n",
    "# Define a simple function to train the network on.\n",
    "def f(x):\n",
    "    if x < 0:\n",
    "        return 0\n",
    "    elif 0 <= x < 5:\n",
    "        return x\n",
    "    elif 5 <= x < 10:\n",
    "        return 10-x\n",
    "    else:\n",
    "        return 0\n",
    "\n",
    "# The function only does interesting stuff between x=0 and x=10, so limit the\n",
    "# training data to that area.\n",
    "x_train = np.linspace(-5, 15, 1000)\n",
    "y_train = np.array([f(x) for x in x_train])\n",
    "\n",
    "model = nn.ReLUFNN(input_size=1, hidden_size=2, num_hidden_layers=2, output_size=1)\n",
    "nn.train(model, x_train, y_train, save_path=\"models/basic_eval.pt\")"
   ]
  },
  {
   "cell_type": "markdown",
   "metadata": {},
   "source": [
    "> Since we will be creating a lot of ReLU-FFNs, we move this to a separate\n",
    "> module called `utils.nn`. The code can be found [here](utils/nn.py).\n",
    "\n",
    "With our model trained and ready, let's compare it to the original function."
   ]
  },
  {
   "cell_type": "code",
   "execution_count": 2,
   "metadata": {},
   "outputs": [
    {
     "data": {
      "image/png": "[encoded data removed]",
      "text/plain": [
       "<Figure size 640x480 with 1 Axes>"
      ]
     },
     "metadata": {},
     "output_type": "display_data"
    }
   ],
   "source": [
    "model.eval()\n",
    "predicted = model(torch.tensor(x_train, dtype=torch.float32).unsqueeze(1)).detach().numpy()\n",
    "\n",
    "plt.plot(x_train, y_train, 'b', label='Original function')\n",
    "plt.plot(x_train, predicted, 'r', label='Neural Network approximation')\n",
    "plt.legend()\n",
    "plt.show()"
   ]
  },
  {
   "cell_type": "markdown",
   "metadata": {},
   "source": [
    "We can see that the neural network nicely approximates the original function.\n",
    "\n",
    "## Creating the database\n",
    "\n"
   ]
  },
  {
   "cell_type": "markdown",
   "metadata": {},
   "source": [
    "A neural network can be seen as a directed graph, where each node has a bias\n",
    "value and each edge a weight value. We store this graph representation in\n",
    "SQLite, a relational database. The schema looks as follows:\n",
    "\n",
    "![Database schema](./assets/db_schema.png)\n",
    "\n",
    "The node's `name` property holds the name of the node as defined in PyTorch and\n",
    "is purely informational. \n",
    "\n",
    "The following code creates this schema and imports the model."
   ]
  },
  {
   "cell_type": "code",
   "execution_count": 3,
   "metadata": {},
   "outputs": [],
   "source": [
    "db.load_pytorch_model_into_db(model)"
   ]
  },
  {
   "cell_type": "markdown",
   "metadata": {},
   "source": [
    "> Similar to the model creation, this code is included from a separate module\n",
    "> `utils.sqlite` that can be found [here](utils/duckdb.py).\n",
    "\n",
    "To give an idea what the inserted data looks like, we'll fetch all nodes and\n",
    "edges."
   ]
  },
  {
   "cell_type": "code",
   "execution_count": 4,
   "metadata": {},
   "outputs": [
    {
     "data": {
      "text/html": [
       "<div>\n",
       "<style scoped>\n",
       "    .dataframe tbody tr th:only-of-type {\n",
       "        vertical-align: middle;\n",
       "    }\n",
       "\n",
       "    .dataframe tbody tr th {\n",
       "        vertical-align: top;\n",
       "    }\n",
       "\n",
       "    .dataframe thead th {\n",
       "        text-align: right;\n",
       "    }\n",
       "</style>\n",
       "<table border=\"1\" class=\"dataframe\">\n",
       "  <thead>\n",
       "    <tr style=\"text-align: right;\">\n",
       "      <th></th>\n",
       "      <th>name</th>\n",
       "      <th>bias</th>\n",
       "    </tr>\n",
       "  </thead>\n",
       "  <tbody>\n",
       "    <tr>\n",
       "      <th>0</th>\n",
       "      <td>input.0</td>\n",
       "      <td>0.000000</td>\n",
       "    </tr>\n",
       "    <tr>\n",
       "      <th>1</th>\n",
       "      <td>linear_relu_stack.0.bias.0</td>\n",
       "      <td>0.581110</td>\n",
       "    </tr>\n",
       "    <tr>\n",
       "      <th>2</th>\n",
       "      <td>linear_relu_stack.0.bias.1</td>\n",
       "      <td>-2.342160</td>\n",
       "    </tr>\n",
       "    <tr>\n",
       "      <th>3</th>\n",
       "      <td>linear_relu_stack.2.bias.0</td>\n",
       "      <td>-0.393416</td>\n",
       "    </tr>\n",
       "    <tr>\n",
       "      <th>4</th>\n",
       "      <td>linear_relu_stack.2.bias.1</td>\n",
       "      <td>-0.183346</td>\n",
       "    </tr>\n",
       "    <tr>\n",
       "      <th>5</th>\n",
       "      <td>linear_relu_stack.4.bias.0</td>\n",
       "      <td>-0.000223</td>\n",
       "    </tr>\n",
       "  </tbody>\n",
       "</table>\n",
       "</div>"
      ],
      "text/plain": [
       "                         name      bias\n",
       "0                     input.0  0.000000\n",
       "1  linear_relu_stack.0.bias.0  0.581110\n",
       "2  linear_relu_stack.0.bias.1 -2.342160\n",
       "3  linear_relu_stack.2.bias.0 -0.393416\n",
       "4  linear_relu_stack.2.bias.1 -0.183346\n",
       "5  linear_relu_stack.4.bias.0 -0.000223"
      ]
     },
     "metadata": {},
     "output_type": "display_data"
    },
    {
     "data": {
      "text/html": [
       "<div>\n",
       "<style scoped>\n",
       "    .dataframe tbody tr th:only-of-type {\n",
       "        vertical-align: middle;\n",
       "    }\n",
       "\n",
       "    .dataframe tbody tr th {\n",
       "        vertical-align: top;\n",
       "    }\n",
       "\n",
       "    .dataframe thead th {\n",
       "        text-align: right;\n",
       "    }\n",
       "</style>\n",
       "<table border=\"1\" class=\"dataframe\">\n",
       "  <thead>\n",
       "    <tr style=\"text-align: right;\">\n",
       "      <th></th>\n",
       "      <th>src</th>\n",
       "      <th>dst</th>\n",
       "      <th>weight</th>\n",
       "    </tr>\n",
       "  </thead>\n",
       "  <tbody>\n",
       "    <tr>\n",
       "      <th>0</th>\n",
       "      <td>1</td>\n",
       "      <td>2</td>\n",
       "      <td>0.768845</td>\n",
       "    </tr>\n",
       "    <tr>\n",
       "      <th>1</th>\n",
       "      <td>1</td>\n",
       "      <td>3</td>\n",
       "      <td>0.468451</td>\n",
       "    </tr>\n",
       "    <tr>\n",
       "      <th>2</th>\n",
       "      <td>2</td>\n",
       "      <td>4</td>\n",
       "      <td>0.622264</td>\n",
       "    </tr>\n",
       "    <tr>\n",
       "      <th>3</th>\n",
       "      <td>2</td>\n",
       "      <td>5</td>\n",
       "      <td>0.360834</td>\n",
       "    </tr>\n",
       "    <tr>\n",
       "      <th>4</th>\n",
       "      <td>3</td>\n",
       "      <td>4</td>\n",
       "      <td>-2.024734</td>\n",
       "    </tr>\n",
       "    <tr>\n",
       "      <th>5</th>\n",
       "      <td>3</td>\n",
       "      <td>5</td>\n",
       "      <td>-1.199183</td>\n",
       "    </tr>\n",
       "    <tr>\n",
       "      <th>6</th>\n",
       "      <td>4</td>\n",
       "      <td>6</td>\n",
       "      <td>1.238098</td>\n",
       "    </tr>\n",
       "    <tr>\n",
       "      <th>7</th>\n",
       "      <td>5</td>\n",
       "      <td>6</td>\n",
       "      <td>1.470374</td>\n",
       "    </tr>\n",
       "  </tbody>\n",
       "</table>\n",
       "</div>"
      ],
      "text/plain": [
       "   src  dst    weight\n",
       "0    1    2  0.768845\n",
       "1    1    3  0.468451\n",
       "2    2    4  0.622264\n",
       "3    2    5  0.360834\n",
       "4    3    4 -2.024734\n",
       "5    3    5 -1.199183\n",
       "6    4    6  1.238098\n",
       "7    5    6  1.470374"
      ]
     },
     "metadata": {},
     "output_type": "display_data"
    }
   ],
   "source": [
    "display(pd.read_sql_query(\"SELECT name, bias FROM node\", db.con))\n",
    "display(pd.read_sql_query(\"SELECT * FROM edge\", db.con))"
   ]
  },
  {
   "cell_type": "markdown",
   "metadata": {},
   "source": [
    "To reassure us that these weights and biases are correct, we can use\n",
    "`model.state_dict()` to compare them to the tensors of the PyTorch model."
   ]
  },
  {
   "cell_type": "code",
   "execution_count": 5,
   "metadata": {},
   "outputs": [
    {
     "data": {
      "text/plain": [
       "OrderedDict([('linear_relu_stack.0.weight',\n",
       "              tensor([[0.7688],\n",
       "                      [0.4685]])),\n",
       "             ('linear_relu_stack.0.bias', tensor([ 0.5811, -2.3422])),\n",
       "             ('linear_relu_stack.2.weight',\n",
       "              tensor([[ 0.6223, -2.0247],\n",
       "                      [ 0.3608, -1.1992]])),\n",
       "             ('linear_relu_stack.2.bias', tensor([-0.3934, -0.1833])),\n",
       "             ('linear_relu_stack.4.weight', tensor([[1.2381, 1.4704]])),\n",
       "             ('linear_relu_stack.4.bias', tensor([-0.0002]))])"
      ]
     },
     "execution_count": 5,
     "metadata": {},
     "output_type": "execute_result"
    }
   ],
   "source": [
    "model.state_dict()"
   ]
  },
  {
   "cell_type": "markdown",
   "metadata": {},
   "source": [
    "## Creating the eval query\n",
    "\n",
    "The paper constructs the $eval$ term as follows:\n",
    "\n",
    "- Let $val_1, \\ldots, val_m$ be additional weight constant symbols representing\n",
    "  input values.\n",
    "- Then the following term $t_1(u)$ describes the value of any neuron $u$ in the\n",
    "  first hidden layer:\n",
    "\n",
    "  $\n",
    "  t_1(u) := ReLU(b(u) + w(in_1, u) \\cdot val_1 + \\ldots + w(in_m, u) \\cdot val_m) \n",
    "  $\n",
    "\n",
    "  With $w(a, b)$ being the weight value of the edge that connects node $a$ to\n",
    "  node $b$, and $b(a)$ the bias of node $a$.\n",
    "- We can now inductively define the weight term $t_l$ for any subsequent layer\n",
    "  $l > 1$:\n",
    "  \n",
    "  $\n",
    "  t_l(u) := ReLU(b(u) + \\Sigma_{x:E(x,u)} w(x,u) \\cdot t_{l-1}(x)) \n",
    "  $\n",
    "- The value of the $j$-th output neuron is given as follows:\n",
    "\n",
    "  $\n",
    "  eval_j := ReLU(b(out_j) + \\Sigma_{x:E(x,out_j)} w(x,out_j) \\cdot t_{l}(x)) \n",
    "  $\n",
    "\n",
    "  Where $l$ is the number of the last hidden layer.\n",
    "\n",
    "We will now translate this term into a SQL query. Keep in mind that the paper\n",
    "assumes the number of layers $l$ is known. For this reason, we will explicitly\n",
    "not use SQL's recursive capabilities in this stage and instead build the query\n",
    "manually. We'll discuss recursion in a later chapter.\n",
    "\n",
    "The full query is given here:\n",
    "\n",
    "```sql\n",
    "WITH input_values AS (\n",
    "    SELECT $val1 AS input_value\n",
    "),\n",
    "input_nodes AS (\n",
    "    SELECT id, bias\n",
    "    FROM node\n",
    "    WHERE id NOT IN\n",
    "    (\n",
    "        SELECT dst FROM edge\n",
    "    )\n",
    "),\n",
    "t1 AS (\n",
    "    SELECT\n",
    "        MAX(\n",
    "            0,\n",
    "            n.bias + SUM(e.weight * v.input_value)\n",
    "        ) AS t1,\n",
    "        e.dst AS id\n",
    "    FROM edge e\n",
    "    JOIN input_nodes i ON i.id = e.src\n",
    "    JOIN node n ON e.dst = n.id\n",
    "    CROSS JOIN input_values v\n",
    "    GROUP BY e.dst, n.bias\n",
    "),\n",
    "t2 AS (\n",
    "    SELECT\n",
    "        MAX(\n",
    "            0,\n",
    "            n.bias + SUM(e.weight * t1.t1)\n",
    "        ) AS t2,\n",
    "        e.dst AS id\n",
    "    FROM edge e\n",
    "    JOIN t1 ON t1.id = e.src\n",
    "    JOIN node n ON e.dst = n.id\n",
    "    GROUP BY e.dst, n.bias\n",
    "),\n",
    "outputs AS (\n",
    "    SELECT\n",
    "        n.bias + SUM(e.weight * t2.t2) AS output_value,\n",
    "        e.dst AS output_node_id\n",
    "    FROM edge e\n",
    "    JOIN t2 ON t2.id = e.src\n",
    "    JOIN node n ON e.dst = n.id\n",
    "    GROUP BY e.dst, n.bias\n",
    ")\n",
    "SELECT * FROM outputs;\n",
    "```"
   ]
  },
  {
   "cell_type": "markdown",
   "metadata": {},
   "source": [
    "We rely heavily on Common Table Expressions (CTEs) to improve readability. Let's\n",
    "break the query down step-by-step.\n",
    "\n",
    "```sql\n",
    "WITH input_values AS (\n",
    "    SELECT $val1 AS input_value\n",
    ")\n",
    "```\n",
    "\n",
    "The neural network accepts only one input value. `$val1` is a placeholder that\n",
    "will receive the input value when executing the query.\n",
    "\n",
    "```sql\n",
    "input_nodes AS (\n",
    "    SELECT id\n",
    "    FROM node\n",
    "    WHERE id NOT IN\n",
    "    (\n",
    "        SELECT dst FROM edge\n",
    "    )\n",
    ")\n",
    "```\n",
    "\n",
    "The set of input nodes is defined as the nodes that do not have any incoming\n",
    "edge.\n",
    "\n",
    "```sql\n",
    "t1 AS (\n",
    "    SELECT\n",
    "        MAX(\n",
    "            0,\n",
    "            n.bias + SUM(e.weight * v.input_value)\n",
    "        ) AS t1,\n",
    "        e.dst AS id\n",
    "    FROM edge e\n",
    "    JOIN input_nodes i ON i.id = e.src\n",
    "    JOIN node n ON e.dst = n.id\n",
    "    CROSS JOIN input_values v\n",
    "    GROUP BY e.dst, n.bias\n",
    ")\n",
    "```\n",
    "\n",
    "This is the term $t_1(u)$ that represents the values of the first layer's hidden\n",
    "neurons.\n",
    "\n",
    "- `FROM edge e JOIN input_nodes i ON i.id = e.src` selects all edges that start\n",
    "  from an input node, which means that `e.dst` is the ID of the hidden neuron in\n",
    "  the first layer.\n",
    "- We only have one input value, so `CROSS JOIN input_values v` simply adds them\n",
    "  to the output relation.\n",
    "- `GROUP BY e.dst, n.bias` combined with `SUM` represents the summation over all\n",
    "  the input weights for each hidden neuron.\n",
    "- `MAX(0, x)` represents the ReLU activation function.\n",
    "\n",
    "The result is a relation that has a row for each hidden neuron in the first\n",
    "layer.\n",
    "\n",
    "```sql\n",
    "t2 AS (\n",
    "    SELECT\n",
    "        MAX(\n",
    "            0,\n",
    "            n.bias + SUM(e.weight * t1.t1)\n",
    "        ) AS t2,\n",
    "        e.dst AS id\n",
    "    FROM edge e\n",
    "    JOIN t1 ON t1.id = e.src\n",
    "    JOIN node n ON e.dst = n.id\n",
    "    GROUP BY e.dst, n.bias\n",
    ")\n",
    "```\n",
    "\n",
    "This CTE is very similar to $t_1$. It is the inductive case where we calculate\n",
    "the values of the second hidden layer by relying on the ones we calculated for\n",
    "the first hidden layer.\n",
    "\n",
    "```sql\n",
    "outputs AS (\n",
    "    SELECT\n",
    "        n.bias + SUM(e.weight * t2.t2) AS output_value,\n",
    "        e.dst AS output_node_id\n",
    "    FROM edge e\n",
    "    JOIN t2 ON t2.id = e.src\n",
    "    JOIN node n ON e.dst = n.id\n",
    "    GROUP BY e.dst, n.bias\n",
    ")\n",
    "SELECT * FROM outputs;\n",
    "```\n",
    "\n",
    "As the final step we have another similar CTE. The main difference here is that\n",
    "we omit the ReLU application. The result is the final value for each output\n",
    "node."
   ]
  },
  {
   "cell_type": "markdown",
   "metadata": {},
   "source": [
    "## Running the query\n",
    "\n",
    "Let's now run the query on the database to see of the result is identical to\n",
    "that of the model's evaluation. The query is available in the file\n",
    "[eval_generic_basic.sql](./queries/eval_generic_basic.sql)."
   ]
  },
  {
   "cell_type": "code",
   "execution_count": 6,
   "metadata": {},
   "outputs": [
    {
     "name": "stdout",
     "output_type": "stream",
     "text": [
      "The neural network predicted 4.999991416931152\n",
      "The SQL query calculated 4.999991102643108\n"
     ]
    }
   ],
   "source": [
    "with open('queries/eval_generic_basic.sql', 'r') as query_file:\n",
    "    query = query_file.read()\n",
    "\n",
    "nn_output = model(torch.tensor([5], dtype=torch.float32).unsqueeze(1)).detach().numpy()\n",
    "sql_output = db.con.execute(query, {'val1': 5}).fetchone()\n",
    "\n",
    "print(f\"The neural network predicted {nn_output[0][0]}\")\n",
    "print(f\"The SQL query calculated {sql_output[0]}\")"
   ]
  },
  {
   "cell_type": "markdown",
   "metadata": {},
   "source": [
    "As we can see, the output is nearly identical. There is some difference, which\n",
    "can be explained by different floating point precisions.\n",
    "\n",
    "We can plot the neural network's output and the sql query's output for all\n",
    "of our training data to see if they correspond nicely."
   ]
  },
  {
   "cell_type": "code",
   "execution_count": 7,
   "metadata": {},
   "outputs": [
    {
     "data": {
      "image/png": "[encoded data removed]",
      "text/plain": [
       "<Figure size 640x480 with 1 Axes>"
      ]
     },
     "metadata": {},
     "output_type": "display_data"
    }
   ],
   "source": [
    "y_sql = []\n",
    "for x in x_train:\n",
    "    (y,_) = db.con.execute(query, {'val1': x}).fetchone()\n",
    "    y_sql.append(y)\n",
    "\n",
    "plt.plot(x_train, predicted, 'r', label='Neural Network output')\n",
    "plt.plot(x_train, y_sql, 'b', label='SQL query eval output')\n",
    "plt.legend()\n",
    "plt.show()"
   ]
  },
  {
   "cell_type": "markdown",
   "metadata": {},
   "source": [
    "## More hidden layers\n",
    "\n",
    "Our basic FNN only has 2 hidden layers. We'll create a more complex network with\n",
    "more layers to see how our query performs."
   ]
  },
  {
   "cell_type": "code",
   "execution_count": 8,
   "metadata": {},
   "outputs": [],
   "source": [
    "bigger_model = nn.ReLUFNN(input_size=1, output_size=1, hidden_size=4, num_hidden_layers=10)\n",
    "nn.train(bigger_model, x_train, y_train, save_path=\"models/basic_eval_bigger.pt\")\n",
    "db.load_pytorch_model_into_db(bigger_model)"
   ]
  },
  {
   "cell_type": "markdown",
   "metadata": {},
   "source": [
    "Since we do not rely on SQL's recursive capabilities, we have to explicitly\n",
    "define each term in the query. We'll use python to automate this."
   ]
  },
  {
   "cell_type": "code",
   "execution_count": 9,
   "metadata": {},
   "outputs": [],
   "source": [
    "def eval_nn(model, input_value):\n",
    "    # We have to divide by 2, since the state dict contains 2 entries for each\n",
    "    # layer (one for the weights, the other for the biases).\n",
    "    num_layers = int(len(model.state_dict()) / 2)\n",
    "\n",
    "    # This first part of the query is identical to the basic query.\n",
    "    query = \"\"\"\n",
    "        WITH input_values AS (\n",
    "            SELECT $val1 AS input_value\n",
    "        ),\n",
    "        input_nodes AS (\n",
    "            SELECT id\n",
    "            FROM node\n",
    "            WHERE id NOT IN\n",
    "            (\n",
    "                SELECT dst FROM edge\n",
    "            )\n",
    "        ),\n",
    "        t1 AS (\n",
    "            SELECT\n",
    "                MAX(\n",
    "                    0,\n",
    "                    n.bias + SUM(e.weight * v.input_value)\n",
    "                ) AS t1,\n",
    "                e.dst AS id\n",
    "            FROM edge e\n",
    "            JOIN input_nodes i ON i.id = e.src\n",
    "            JOIN node n ON e.dst = n.id\n",
    "            CROSS JOIN input_values v\n",
    "            GROUP BY e.dst, n.bias\n",
    "        ),\n",
    "        \"\"\"\n",
    "\n",
    "    # We then add each intermediary term t_l programmatically.\n",
    "    for hidden_layer in range(2, num_layers):\n",
    "        curr = hidden_layer\n",
    "        prev = hidden_layer - 1\n",
    "        query += f\"\"\"\n",
    "            t{curr} AS (\n",
    "                SELECT\n",
    "                    MAX(\n",
    "                        0,\n",
    "                        n.bias + SUM(e.weight * t{prev}.t{prev})\n",
    "                    ) AS t{curr},\n",
    "                    e.dst AS id\n",
    "                FROM edge e\n",
    "                JOIN t{prev} ON t{prev}.id = e.src\n",
    "                JOIN node n ON e.dst = n.id\n",
    "                GROUP BY e.dst, n.bias\n",
    "            ),\n",
    "        \"\"\"\n",
    "\n",
    "    # The output is again identical to the basic query.\n",
    "    prev = num_layers - 1\n",
    "    query += f\"\"\"\n",
    "        outputs AS (\n",
    "            SELECT\n",
    "                n.bias + SUM(e.weight * t{prev}.t{prev}) AS output_value,\n",
    "                e.dst AS output_node_id\n",
    "            FROM edge e\n",
    "            JOIN t{prev} ON t{prev}.id = e.src\n",
    "            JOIN node n ON e.dst = n.id\n",
    "            GROUP BY e.dst, n.bias\n",
    "        )\n",
    "        SELECT * FROM outputs;\n",
    "    \"\"\"\n",
    "\n",
    "    (y,_) = db.con.execute(query, {'val1': input_value}).fetchone()\n",
    "\n",
    "    return y"
   ]
  },
  {
   "cell_type": "code",
   "execution_count": 10,
   "metadata": {},
   "outputs": [
    {
     "data": {
      "image/png": "[encoded data removed]",
      "text/plain": [
       "<Figure size 640x480 with 1 Axes>"
      ]
     },
     "metadata": {},
     "output_type": "display_data"
    }
   ],
   "source": [
    "xs = np.linspace(-5, 15, 100)\n",
    "\n",
    "predicted = bigger_model(torch.tensor(xs, dtype=torch.float32).unsqueeze(1)).detach().numpy()\n",
    "\n",
    "y_sql = []\n",
    "for x in xs:\n",
    "    y = eval_nn(bigger_model, x)\n",
    "    y_sql.append(y)\n",
    "\n",
    "plt.plot(xs, predicted, 'r', label='Neural Network output')\n",
    "plt.plot(xs, y_sql, 'b', label='SQL query eval output')\n",
    "plt.legend()\n",
    "plt.show()"
   ]
  },
  {
   "cell_type": "markdown",
   "metadata": {},
   "source": [
    "As we can see, the query still performs as expected.\n",
    "\n",
    "## Conclusion\n",
    "\n",
    "We have shown that we can use SQL to evaluate a basic FNN. In the following\n",
    "chapters, we'll gradually increase the complexity of the neural network and\n",
    "adapt our query accordingly."
   ]
  }
 ],
 "metadata": {
  "kernelspec": {
   "display_name": "venv",
   "language": "python",
   "name": "python3"
  },
  "language_info": {
   "codemirror_mode": {
    "name": "ipython",
    "version": 3
   },
   "file_extension": ".py",
   "mimetype": "text/x-python",
   "name": "python",
   "nbconvert_exporter": "python",
   "pygments_lexer": "ipython3",
   "version": "3.10.12"
  }
 },
 "nbformat": 4,
 "nbformat_minor": 2
}
